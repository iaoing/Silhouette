{
  "cells": [
    {
      "cell_type": "markdown",
      "id": "1d276478-d6d8-45f2-9a75-682bf60aafd9",
      "metadata": {
        "tags": []
      },
      "source": [
        "# Silhouete Artifact\n",
        "\n",
        "Artifact of the paper \"Silhouette: Leveraging Consistency Mechanisms to Detect Bugs in Persistent Memory-Based File Systems\" from USENIX FAST '25.\n",
        "\n",
        "- Git Repo: https://github.com/iaoing/Silhouette\n",
        "- Zenodo records: https://zenodo.org/records/14550794\n",
        "\n",
        "To access ChameleonCloud resources, you may need the [account](https://chameleoncloud.readthedocs.io/en/latest/user/federation.html) to log in to ChameleonCloud. You also need to have a [project](https://chameleoncloud.readthedocs.io/en/latest/user/project.html) to allocate resources (e.g., node).\n",
        "\n",
        "As artifact reviewers, you should have the account distributed or the project (budget) assigned by the FAST AE committee. If you do not have it, please contact the committee."
      ]
    },
    {
      "cell_type": "markdown",
      "id": "e4d2853b-2141-44da-a593-ae12f10a9971",
      "metadata": {
        "tags": []
      },
      "source": [
        "## 1. Prepare ChameleonCloud Server\n",
        "\n",
        "Preparing ChameleonCloud server may take ~20 mins.\n",
        "\n",
        "If any error occurs, please try to restart from Setp 1.1 and change the variables to a different name.\n",
        "\n",
        "If the error repeats, please contact Chameleon for help, [help desk](https://chameleoncloud.org/user/help/).\n",
        "\n",
        "If you have allocated a server through Section 1.1 to Section 1.7, please directly go to Section 2 to log in to the server by the floating IP."
      ]
    },
    {
      "cell_type": "markdown",
      "id": "c90f9789-a9ea-4340-941d-1cb2f37defa0",
      "metadata": {
        "tags": []
      },
      "source": [
        "#### 1.1 Set variables\n",
        "\n",
        "The lease duration is the available time for the allocated node. You may change the location based on your location and the duration if you would like to run more tests."
      ]
    },
    {
      "cell_type": "code",
      "execution_count": 1,
      "id": "268452bb-4f4d-43bd-9cfb-ddfda1806a77",
      "metadata": {
        "tags": []
      },
      "outputs": [],
      "source": [
        "import os\n",
        "from datetime import timedelta\n",
        "ae_lease_loc = \"CHI@UC\" # CHI@UC, CHI@TACC, etc.\n",
        "ae_lease_name = f\"{os.getenv('USER')}-fast25-silhouette-ae\"\n",
        "ae_lease_duration = timedelta(hours=24)"
      ]
    },
    {
      "cell_type": "markdown",
      "id": "42a01dc2-779d-4091-ba3c-be1c3ff042af",
      "metadata": {
        "tags": []
      },
      "source": [
        "#### 1.2 Configuring resources\n",
        "\n",
        "We need to configure the experiment \"container,\" meaning to isolated, reproducible environment that our experiment will run in."
      ]
    },
    {
      "cell_type": "code",
      "execution_count": 2,
      "id": "f31f6bdf-4e50-4d9d-8aee-6853b1cf4384",
      "metadata": {
        "tags": []
      },
      "outputs": [],
      "source": [
        "from chi import context\n",
        "\n",
        "# During the transition period, we need to opt into the some of the \n",
        "# new python-chi functions. Otherwise the functional interface will\n",
        "# return the old types.\n",
        "context.version = \"1.0\"\n",
        "\n",
        "context.choose_site(default=ae_lease_loc)\n",
        "context.choose_project()"
      ]
    },
    {
      "cell_type": "markdown",
      "id": "48cd51df-ff64-40d1-843f-275a3d6d53b1",
      "metadata": {},
      "source": [
        "#### 1.3 Check available hardware"
      ]
    },
    {
      "cell_type": "code",
      "execution_count": 3,
      "id": "0048eebb-93ed-47d9-941b-3d7dec270ec0",
      "metadata": {
        "tags": []
      },
      "outputs": [],
      "source": [
        "from chi import hardware\n",
        "\n",
        "node_type = \"compute_cascadelake_r\"\n",
        "available_nodes = hardware.get_nodes(node_type=node_type, filter_reserved=True)\n",
        "if available_nodes:\n",
        "    print(f\"There currently are {len(available_nodes)} {node_type} nodes ready to use\")\n",
        "else:\n",
        "    print(f\"All {node_type} nodes are in use! You could use next_free_timeslot to see how long you need to wait, or use the calendar.\")"
      ]
    },
    {
      "cell_type": "markdown",
      "id": "130b7de5-4f04-486d-be67-87fe27af49ed",
      "metadata": {},
      "source": [
        "#### 1.4 Reserve node\n",
        "\n",
        "If the output shows `Lease {ae_lease_name} has reached status error`, indicating some errors happended in the cloud. Please change the ae_lease_name (e.g., `ae_lease_name = f\"{os.getenv('USER')}-fast25-silhouette-ae-2\"`) and restart from the beginning."
      ]
    },
    {
      "cell_type": "code",
      "execution_count": 4,
      "id": "b050a627-0bb9-4df7-93b2-777dbd9890cd",
      "metadata": {
        "tags": []
      },
      "outputs": [],
      "source": [
        "from chi import lease\n",
        "from datetime import timedelta\n",
        "import os\n",
        "\n",
        "my_lease = lease.Lease(ae_lease_name, duration=ae_lease_duration)\n",
        "my_lease.add_node_reservation(nodes=[available_nodes[0]]) # or you could use node_type=node_type\n",
        "my_lease.add_fip_reservation(1) # include a floating ip\n",
        "my_lease.submit(show=\"widget\", idempotent=True)"
      ]
    },
    {
      "cell_type": "markdown",
      "id": "1597768e-13f0-46fb-bc2f-27955e6eda25",
      "metadata": {},
      "source": [
        "#### 1.5 Create a server on the node\n",
        "\n",
        "Next, we will launch the reserved node with an image. We submit the request to create a server, using the reservation information from our lease. You'll need to wait for the server to fully provision, which can around **10-20 minutes** depending on the node.\n",
        "\n",
        "If the output shows `Server has moved to status Error` or the server was not start after 20 mins, please modify the `ae_lease_loc` and `ae_lease_name`, then restart from the beginning. "
      ]
    },
    {
      "cell_type": "code",
      "execution_count": 5,
      "id": "f1005435-2b72-491d-8d0b-5c47bb21783c",
      "metadata": {
        "tags": []
      },
      "outputs": [],
      "source": [
        "from chi import server\n",
        "\n",
        "my_server = server.Server(\n",
        "    ae_lease_name,\n",
        "    reservation_id=my_lease.node_reservations[0][\"id\"],\n",
        "    image_name=\"CC-Ubuntu22.04\",\n",
        ")\n",
        "my_server.submit(show=\"widget\", idempotent=True)"
      ]
    },
    {
      "cell_type": "markdown",
      "id": "c0eebb30-1bac-4f51-a587-e1fce76dc19d",
      "metadata": {},
      "source": [
        "#### 1.6 Configure networking\n",
        "\n",
        "Need to configure the server to use the floating IP we reserved earlier. We'll also need to wait for the networking to finish configuring, which may take a few additional minutes."
      ]
    },
    {
      "cell_type": "code",
      "execution_count": 6,
      "id": "ec741a89-f536-4268-a825-ece52f22746b",
      "metadata": {
        "tags": []
      },
      "outputs": [],
      "source": [
        "fip = my_lease.get_reserved_floating_ips()[0]\n",
        "my_server.associate_floating_ip(fip)\n",
        "my_server.check_connectivity(host=fip)"
      ]
    },
    {
      "cell_type": "markdown",
      "id": "3aa62a95-0d15-4bda-9f7e-1f8e813246ff",
      "metadata": {
        "tags": []
      },
      "source": [
        "#### 1.7 Ready to use"
      ]
    },
    {
      "cell_type": "code",
      "execution_count": 7,
      "id": "7912a461-a165-4ac8-b760-dc1fd6bd0270",
      "metadata": {
        "tags": []
      },
      "outputs": [],
      "source": [
        "my_server.show(\"widget\")"
      ]
    },
    {
      "cell_type": "markdown",
      "id": "c03a6af7-1cb9-4910-bbb7-8e0a9f5ca522",
      "metadata": {
        "tags": []
      },
      "source": [
        "## 2. Prepare Codebase and VM\n",
        "\n",
        "**NOTE**:\n",
        "Forward commands to the server from Jupyter may have some unexpected issues (e.g., connection closed, server no response, timeout, web no response) and have to restart from allocating a new node and server, which is too time-consuming. \n",
        "\n",
        "Here, we can directly open a terminal and connect to the server. If you do not know how to open a terminal and connect to the server, please check Section [Section 4.3](#4.3-Open-a-terminal), [Section 4.4](#4.4-Get-the-floating-IP-(used-to-SSH-to-the-server)), and [Section 4.5](#4.5-Connect-to-the-server-(floating-IP)-in-the-terminal)\n",
        "\n",
        "After loggin in to the server, excute the below commands.\n",
        "\n",
        "\n",
        "```shell\n",
        "# 2.1 Clone Silhouette Repo\n",
        "mkdir -p ~/silhouette_ae\n",
        "cd ~/silhouette_ae\n",
        "git clone https://github.com/iaoing/Silhouette.git\n",
        "\n",
        "# 2.2 Download VM from Zenodo. The image is ~30GiB, downloading may take ~20 mins\n",
        "#     What inside the VM?\n",
        "#     - installed kernel-5.1 (compiled by LLVM) with support to NOVA, PMFS, and WineFS modules.\n",
        "#     - Some pre-built ACE workload.\n",
        "#     - The Silhouette are not inside the VM, they are scp-ed to the VM during running. You may log in to the VM to check what inside it.\n",
        "#     - You may log in to the VM to check what inside it by use the username `bing` and the password `123456`.\n",
        "mkdir -p ~/silhouette_ae/qemu_imgs\n",
        "cd ~/silhouette_ae/qemu_imgs\n",
        "wget https://zenodo.org/records/14550794/files/silhouette_guest_vm.qcow2\n",
        "\n",
        "# 2.3 Install Deps and Prepare\n",
        "cd /home/cc/silhouette_ae/Silhouette && bash ./install_dep.sh\n",
        "cd /home/cc/silhouette_ae/Silhouette && bash ./prepare.sh\n",
        "```"
      ]
    },
    {
      "cell_type": "markdown",
      "id": "73fec3b1-3417-4579-9fdd-1405972844eb",
      "metadata": {},
      "source": [
        "## 3. Reproduction\n",
        "\n",
        "#### 3.1 Reproduce Bugs\n",
        "\n",
        "The bug reproduction may take ~2 hours because:\n",
        "- Some bugs may block other bugs, we make separate tests for each one.\n",
        "- Regardless of the number of test cases, Silhouette follows the same process to prepare virtual machines (VMs). As a result, over 90% of the time is spent setting up the VM for each bug reproduction.\n",
        "\n",
        "In the terminal, execute the belwo command:\n",
        "\n",
        "```shell\n",
        "cd /home/cc/silhouette_ae/Silhouette/evaluation/bugs\n",
        "nohup bash ./reproduce_all.sh &\n",
        "```\n",
        "\n",
        "When the test is done, please refer to `evaluation/bugs/bugXX/readme.md` in the git repo to check Silhouette output and the bug report and the detail of each bug (e.g., [Bug1](https://github.com/iaoing/Silhouette/blob/main/evaluation/bugs/bug1/readme.md))."
      ]
    },
    {
      "cell_type": "markdown",
      "id": "6f73d510-b116-40ff-b1ba-d90987cd6ad6",
      "metadata": {},
      "source": [
        "#### 3.2 Scalability Evaluation\n",
        "\n",
        "The entire scalability test (as paper described) may take around one week. Thus, we provided two small tests here. Each of it needs to run about 4-5 hours. You may run all of them, or just one depends on your convenience. Also, you can modify the commands to run other tests."
      ]
    },
    {
      "cell_type": "markdown",
      "id": "32cbcfdb-5e84-4095-b27c-7e86176a11ce",
      "metadata": {},
      "source": [
        "**3.2.1 Test NOVA on ACE-seq3 workload with 20 VMs**\n",
        "\n",
        "Since testing NOVA, PMFS, and WineFS on ACE-seq3 workload with different crash plan generation schemes (Silhouette, 2CP, Invariants+Comb) may take more than 40 hours, we only test NOVA with Silhouette scheme generation here.\n",
        "\n",
        "This test takes **~4-5 hours**. If you would like to run the **entire seq3 workload**, please refer to Section 3.2.2.\n",
        "\n",
        "\n",
        "In the terminal, execute the belwo command:\n",
        "\n",
        "```shell\n",
        "cd /home/cc/silhouette_ae/Silhouette/evaluation/scalability/seq3/nova/mech2cp\n",
        "nohup bash ./run.sh &\n",
        "```\n",
        "\n",
        "At the beginning of the test, Silhouette needs to set up the VM and copy the codebase to the VM, which requires around 10 minutes. Once the setup completes, you may use the below command to check the status of the running test.\n",
        "```shell\n",
        "python3 ~/silhouette_ae/Silhouette/codebase/scripts/executor/host_side/print_memcached_info.py\n",
        "```\n",
        "\n",
        "When the reproduction completes, the result will be available in the `~/silhouette_ae/Silhouette/evaluation/scalability/seq3/nova/mech2cp/result` directory. Please refer to Section 3.2.3 to check the details of generated result.\n",
        "\n",
        "Samples:\n",
        "```shell\n",
        "# This shows the time breakdown of this test.\n",
        "cat ~/silhouette_ae/Silhouette/evaluation/scalability/seq3/nova/mech2cp/result/result_elapsed_time/result_time.txt\n",
        "\n",
        "# This shows the number of generated crash plans\n",
        "cat ~/silhouette_ae/Silhouette/evaluation/scalability/seq3/nova/mech2cp/result/result_cps/result.txt\n",
        "```"
      ]
    },
    {
      "cell_type": "markdown",
      "id": "fd267203-c143-4f43-9f73-943b2735b828",
      "metadata": {},
      "source": [
        "**3.2.2 Test ACE-seq2 workload**\n",
        "\n",
        "Testing one file system on ACE-seq2 workload with one crash plan generation scheme takes ~30 mins. Runing the entire seq2 workload takes around **4.5 hours**. Here, we can run the entire seq2 workload and plot Figrue 1 and Table 9, similar to that presented in the paper.\n",
        "\n",
        "If you would like to run the **entire seq3 workload**, please make sure the allocated lease could be last at least **3 days** and change the commands to enter the seq3 directory.\n",
        "\n",
        "Figure 8 requires enabling certain bugs detected by Chipmunk and manual efforts to identify additional bugs, which may extend beyond the scope of this reproduction process.\n",
        "\n",
        "Figure 9 contains parts of lines shown in Figure 1.\n",
        "\n",
        "Since testing [Chipmunk](https://github.com/utsaslab/chipmunk) and [Vinter](https://github.com/KIT-OSGroup/vinter/tree/master) take longer time than Silhouette, and both tools have their artifacts available on GitHub, we will not discuss them further here.\n",
        "\n",
        "```shell\n",
        "# Run the test\n",
        "cd ~/silhouette_ae/Silhouette/evaluation/scalability/seq2\n",
        "nohup bash ./run_all.sh &\n",
        "\n",
        "# Analyze the result and plot the figrue and table\n",
        "cd ~/silhouette_ae/Silhouette/evaluation/scalability/seq2\n",
        "bash ./plot.sh\n",
        "\n",
        "# Check the table\n",
        "cat ~/silhouette_ae/Silhouette/evaluation/scalability/seq2/table_9.txt\n",
        "```\n",
        "\n",
        "To view the pdf file, please open a new terminal (do not log in to the server) and execute the below commands:\n",
        "```shell\n",
        "scp cc@floating_ip:~/silhouette_ae/Silhouette/evaluation/scalability/seq2/figure_1.pdf ./\n",
        "```\n",
        "\n",
        "Then, click the refersh button ([scp to JupyterLab](#4.6-SCP-file-from-the-server-to-JupyterLab)). You will see the figure in the file explorer (the left side). Double-clock the figure in the file explorer, you will see the figure.\n",
        "\n",
        "Even we tested seq2 rather than seq3 here, the figure should have the similar curve as it shown in the paper."
      ]
    },
    {
      "cell_type": "markdown",
      "id": "c8da8a03-5583-4e26-9a02-4f871f83c1a7",
      "metadata": {},
      "source": [
        "**3.2.3 Raw Output Layout**\n",
        "\n",
        "After a test, a `result` directory will be generated under each subdirectory (e.g., under `seq2/nova/mech2cp`), which contains the raw output.\n",
        "\n",
        "```txt\n",
        "├── result/\n",
        "    ├── result_cache_sim/           -> stores the cache simulation result, e.g., the number of in-flight stores at each ordering point, the duplicate fences.\n",
        "    ├── result_cps/                 -> stores the number of different types of crash plans.\n",
        "    ├── result_cps2validation       -> stores short reports\n",
        "    ├── result_details              -> stores the trace of stores, flushes, and fences in the order of timestamp. Each store are marked as rep (replication-related stores), lsw (Log-structure Write-related stores), jnl (journal-related stores), or nothing (unprotected store). It also contains the detailed info (which store should be persisted and which should be unpersisted) generated crash plans.\n",
        "    ├── result_elapsed_time         -> the time breakdown. The total guest time is related to the number of running VMs.\n",
        "    ├── result_failed_test_cases    -> summary of failed test cases (e.g., rename a dir as its parents)\n",
        "    ├── result_invaraints           -> results of invariant checking (may contain false positives)\n",
        "    ├── result_memcached_info       -> the states of memcached (e.g., number of sets)\n",
        "    ├── result_tracing              -> error that happened during tracing (execution)\n",
        "    ├── result_unique_ops           -> summary of unique operations\n",
        "    ├── result_validation           -> the validation results\n",
        "    └── result_vminfo.txt           -> the general info of running VMs\n",
        "```"
      ]
    },
    {
      "cell_type": "markdown",
      "id": "7ba784dc-9e56-4fc4-baf8-89ad845a8f25",
      "metadata": {
        "tags": []
      },
      "source": [
        "## 4. How to Use JupyterLab\n",
        "\n",
        "If you are familier with ChameleonCloud's JuputerLab, you can skip this section.\n",
        "\n",
        "If you are not familier with Chameleon Cloud, please refer to the [offical documentation](https://chameleoncloud.readthedocs.io/en/latest/index.html). "
      ]
    },
    {
      "cell_type": "markdown",
      "id": "80e40d88-ab25-4beb-ab8d-7be28fc8275b",
      "metadata": {
        "jp-MarkdownHeadingCollapsed": true,
        "tags": []
      },
      "source": [
        "#### 4.1 Execute a cell\n",
        "\n",
        "![execute-a-cell](pics/silhouette_ae_0_1.png)"
      ]
    },
    {
      "cell_type": "markdown",
      "id": "8568585f-ec16-42ba-b27e-06d4e660863c",
      "metadata": {},
      "source": [
        "#### 4.2 Waiting for the execution to complete\n",
        "\n",
        "![wait-complete](pics/silhouette_ae_0_2.png)"
      ]
    },
    {
      "cell_type": "markdown",
      "id": "89cc4992-9625-40e6-9b17-ed637e2b911e",
      "metadata": {},
      "source": [
        "#### 4.3 Open a terminal\n",
        "\n",
        "[How-to](https://jupyterlab.readthedocs.io/en/latest/user/terminal.html)"
      ]
    },
    {
      "cell_type": "markdown",
      "id": "0c1ef6ea-d17a-4c9a-ad4d-0a44fffdd913",
      "metadata": {},
      "source": [
        "#### 4.4 Get the floating IP (used to SSH to the server)\n",
        "\n",
        "After Setp 1.6, the output will show the floating IP.\n",
        "\n",
        "![get-floating-ip](pics/silhouette_ae_0_4.png)"
      ]
    },
    {
      "cell_type": "markdown",
      "id": "5e0844d6-6d92-42ad-b903-ee30a6bd097c",
      "metadata": {},
      "source": [
        "#### 4.5 Connect to the server (floating IP) in the terminal\n",
        "\n",
        "Pleae make sure the server is active and the connection is established.\n",
        "\n",
        "If you did not record the floating IP and closed the page, please go to the [GUI](https://chameleoncloud.readthedocs.io/en/latest/technical/gui.html) page to find the floating IP.\n",
        "\n",
        "![log-into-server](pics/silhouette_ae_0_5.png)\n"
      ]
    },
    {
      "cell_type": "markdown",
      "id": "a641e20e-3e66-4c2f-8084-3ca39967838b",
      "metadata": {
        "tags": []
      },
      "source": [
        "#### 4.6 SCP file from the server to JupyterLab\n",
        "\n",
        "- Open a new terminal (do not log in to the server)\n",
        "- Execute the below commands\n",
        "    ```shell\n",
        "    # Assume the file path is /path/to/the/file\n",
        "    scp cc@floating_ip:/path/to/the/file ./\n",
        "    ```\n",
        "- Then, click the refersh button on the top of the file explorer. The scp-ed file will be shown in the explorer.\n",
        "\n",
        "![scp-refresh](pics/silhouette_ae_0_6.png)"
      ]
    }
  ],
  "metadata": {
    "kernelspec": {
      "display_name": "Python 3 (ipykernel)",
      "language": "python",
      "name": "python3"
    },
    "language_info": {
      "codemirror_mode": {
        "name": "ipython",
        "version": 3
      },
      "file_extension": ".py",
      "mimetype": "text/x-python",
      "name": "python",
      "nbconvert_exporter": "python",
      "pygments_lexer": "ipython3",
      "version": "3.10.9"
    }
  },
  "nbformat": 4,
  "nbformat_minor": 5
}
